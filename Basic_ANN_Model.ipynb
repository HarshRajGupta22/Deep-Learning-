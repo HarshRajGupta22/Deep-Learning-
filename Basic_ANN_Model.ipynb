{
  "nbformat": 4,
  "nbformat_minor": 0,
  "metadata": {
    "colab": {
      "name": "Basic ANN Model.ipynb",
      "provenance": []
    },
    "kernelspec": {
      "name": "python3",
      "display_name": "Python 3"
    },
    "language_info": {
      "name": "python"
    }
  },
  "cells": [
    {
      "cell_type": "code",
      "execution_count": 1,
      "metadata": {
        "id": "Qhl6INYuLnC3"
      },
      "outputs": [],
      "source": [
        "# Artificial Neural Network"
      ]
    },
    {
      "cell_type": "code",
      "source": [
        "# Importing the libraries\n",
        "import numpy as np\n",
        "import matplotlib.pyplot as plt\n",
        "import pandas as pd"
      ],
      "metadata": {
        "id": "UFBWFjajLstt"
      },
      "execution_count": 2,
      "outputs": []
    },
    {
      "cell_type": "code",
      "source": [
        "# Importing the dataset\n",
        "path='https://raw.githubusercontent.com/krishnaik06/Complete-Deep-Learning/master/ANN/Churn_Modelling.csv'\n",
        "dataset = pd.read_csv(path)\n",
        "X = dataset.iloc[:, 3:13]\n",
        "y = dataset.iloc[:, 13]"
      ],
      "metadata": {
        "id": "kHirmbw4Lw_d"
      },
      "execution_count": 4,
      "outputs": []
    },
    {
      "cell_type": "code",
      "source": [
        "#Create dummy variables\n",
        "geography=pd.get_dummies(X[\"Geography\"],drop_first=True)\n",
        "gender=pd.get_dummies(X['Gender'],drop_first=True)\n"
      ],
      "metadata": {
        "id": "48h9ZhnhL0RK"
      },
      "execution_count": 5,
      "outputs": []
    },
    {
      "cell_type": "code",
      "source": [
        "## Concatenate the Data Frames\n",
        "\n",
        "X=pd.concat([X,geography,gender],axis=1)"
      ],
      "metadata": {
        "id": "F49AZqG_MKLe"
      },
      "execution_count": 6,
      "outputs": []
    },
    {
      "cell_type": "code",
      "source": [
        "## Drop Unnecessary columns\n",
        "X=X.drop(['Geography','Gender'],axis=1)"
      ],
      "metadata": {
        "id": "s_nMZVUxMNW1"
      },
      "execution_count": 7,
      "outputs": []
    },
    {
      "cell_type": "code",
      "source": [
        "# Splitting the dataset into the Training set and Test set\n",
        "from sklearn.model_selection import train_test_split\n",
        "X_train, X_test, y_train, y_test = train_test_split(X, y, test_size = 0.2, random_state = 0)"
      ],
      "metadata": {
        "id": "BPjWIlMzMQrG"
      },
      "execution_count": 8,
      "outputs": []
    },
    {
      "cell_type": "code",
      "source": [
        "# Feature Scaling\n",
        "from sklearn.preprocessing import StandardScaler\n",
        "sc = StandardScaler()\n",
        "X_train = sc.fit_transform(X_train)\n",
        "X_test = sc.transform(X_test)"
      ],
      "metadata": {
        "id": "RERfPJXeMTaG"
      },
      "execution_count": 9,
      "outputs": []
    },
    {
      "cell_type": "code",
      "source": [
        "# Importing the Keras libraries and packages\n",
        "import keras\n",
        "from keras.models import Sequential\n",
        "from keras.layers import Dense\n",
        "from keras.layers import LeakyReLU,PReLU,ELU\n",
        "from keras.layers import Dropout\n"
      ],
      "metadata": {
        "id": "QZ0261LHMXEm"
      },
      "execution_count": 10,
      "outputs": []
    },
    {
      "cell_type": "code",
      "source": [
        "# Initialising the ANN\n",
        "classifier = Sequential()\n"
      ],
      "metadata": {
        "id": "Jd9zBzuJMZ-4"
      },
      "execution_count": 11,
      "outputs": []
    },
    {
      "cell_type": "code",
      "source": [
        "# Adding the input layer and the first hidden layer\n",
        "classifier.add(Dense(units = 6, kernel_initializer= 'he_uniform',activation='relu',input_dim = 11))"
      ],
      "metadata": {
        "id": "UYaQ90X4Md9h"
      },
      "execution_count": 14,
      "outputs": []
    },
    {
      "cell_type": "code",
      "source": [
        "# Adding the second hidden layer\n",
        "classifier.add(Dense(units = 6, kernel_initializer= 'he_uniform',activation='relu'))"
      ],
      "metadata": {
        "id": "alw78kN-Mgyh"
      },
      "execution_count": 15,
      "outputs": []
    },
    {
      "cell_type": "code",
      "source": [
        "# Adding the output layer\n",
        "classifier.add(Dense(units= 1, kernel_initializer= 'glorot_uniform', activation = 'sigmoid'))"
      ],
      "metadata": {
        "id": "GtJOt9y3NIp2"
      },
      "execution_count": 16,
      "outputs": []
    },
    {
      "cell_type": "code",
      "source": [
        "# Compiling the ANN\n",
        "classifier.compile(optimizer = 'Adam', loss = 'binary_crossentropy', metrics = ['accuracy'])"
      ],
      "metadata": {
        "id": "5D9GjSUINUGu"
      },
      "execution_count": 19,
      "outputs": []
    },
    {
      "cell_type": "code",
      "source": [
        "# Fitting the ANN to the Training set\n",
        "model_history=classifier.fit(X_train, y_train,validation_split=0.33, batch_size = 10, epochs = 100)"
      ],
      "metadata": {
        "colab": {
          "base_uri": "https://localhost:8080/"
        },
        "id": "CoUO3vvZNUJi",
        "outputId": "e517666b-e2fb-41f9-ef9b-669ad8f7f4d7"
      },
      "execution_count": 22,
      "outputs": [
        {
          "output_type": "stream",
          "name": "stdout",
          "text": [
            "Epoch 1/100\n",
            "536/536 [==============================] - 5s 6ms/step - loss: 0.9595 - accuracy: 0.3950 - val_loss: 0.6321 - val_accuracy: 0.7327\n",
            "Epoch 2/100\n",
            "536/536 [==============================] - 2s 4ms/step - loss: 0.5619 - accuracy: 0.7910 - val_loss: 0.5075 - val_accuracy: 0.7978\n",
            "Epoch 3/100\n",
            "536/536 [==============================] - 3s 6ms/step - loss: 0.4704 - accuracy: 0.8044 - val_loss: 0.4485 - val_accuracy: 0.8129\n",
            "Epoch 4/100\n",
            "536/536 [==============================] - 2s 4ms/step - loss: 0.4248 - accuracy: 0.8252 - val_loss: 0.4244 - val_accuracy: 0.8201\n",
            "Epoch 5/100\n",
            "536/536 [==============================] - 2s 3ms/step - loss: 0.4039 - accuracy: 0.8298 - val_loss: 0.4133 - val_accuracy: 0.8236\n",
            "Epoch 6/100\n",
            "536/536 [==============================] - 1s 2ms/step - loss: 0.3900 - accuracy: 0.8360 - val_loss: 0.4042 - val_accuracy: 0.8277\n",
            "Epoch 7/100\n",
            "536/536 [==============================] - 1s 2ms/step - loss: 0.3802 - accuracy: 0.8373 - val_loss: 0.3961 - val_accuracy: 0.8281\n",
            "Epoch 8/100\n",
            "536/536 [==============================] - 2s 3ms/step - loss: 0.3720 - accuracy: 0.8438 - val_loss: 0.3907 - val_accuracy: 0.8315\n",
            "Epoch 9/100\n",
            "536/536 [==============================] - 1s 2ms/step - loss: 0.3669 - accuracy: 0.8440 - val_loss: 0.3864 - val_accuracy: 0.8353\n",
            "Epoch 10/100\n",
            "536/536 [==============================] - 1s 2ms/step - loss: 0.3624 - accuracy: 0.8464 - val_loss: 0.3839 - val_accuracy: 0.8360\n",
            "Epoch 11/100\n",
            "536/536 [==============================] - 2s 3ms/step - loss: 0.3587 - accuracy: 0.8494 - val_loss: 0.3796 - val_accuracy: 0.8395\n",
            "Epoch 12/100\n",
            "536/536 [==============================] - 1s 3ms/step - loss: 0.3557 - accuracy: 0.8507 - val_loss: 0.3778 - val_accuracy: 0.8383\n",
            "Epoch 13/100\n",
            "536/536 [==============================] - 2s 3ms/step - loss: 0.3534 - accuracy: 0.8520 - val_loss: 0.3765 - val_accuracy: 0.8413\n",
            "Epoch 14/100\n",
            "536/536 [==============================] - 2s 3ms/step - loss: 0.3504 - accuracy: 0.8531 - val_loss: 0.3721 - val_accuracy: 0.8444\n",
            "Epoch 15/100\n",
            "536/536 [==============================] - 2s 3ms/step - loss: 0.3483 - accuracy: 0.8546 - val_loss: 0.3704 - val_accuracy: 0.8455\n",
            "Epoch 16/100\n",
            "536/536 [==============================] - 2s 3ms/step - loss: 0.3467 - accuracy: 0.8543 - val_loss: 0.3683 - val_accuracy: 0.8489\n",
            "Epoch 17/100\n",
            "536/536 [==============================] - 2s 3ms/step - loss: 0.3453 - accuracy: 0.8550 - val_loss: 0.3679 - val_accuracy: 0.8489\n",
            "Epoch 18/100\n",
            "536/536 [==============================] - 1s 2ms/step - loss: 0.3443 - accuracy: 0.8545 - val_loss: 0.3682 - val_accuracy: 0.8489\n",
            "Epoch 19/100\n",
            "536/536 [==============================] - 1s 2ms/step - loss: 0.3433 - accuracy: 0.8565 - val_loss: 0.3670 - val_accuracy: 0.8504\n",
            "Epoch 20/100\n",
            "536/536 [==============================] - 1s 2ms/step - loss: 0.3424 - accuracy: 0.8569 - val_loss: 0.3673 - val_accuracy: 0.8478\n",
            "Epoch 21/100\n",
            "536/536 [==============================] - 1s 2ms/step - loss: 0.3421 - accuracy: 0.8586 - val_loss: 0.3659 - val_accuracy: 0.8504\n",
            "Epoch 22/100\n",
            "536/536 [==============================] - 1s 2ms/step - loss: 0.3414 - accuracy: 0.8576 - val_loss: 0.3642 - val_accuracy: 0.8535\n",
            "Epoch 23/100\n",
            "536/536 [==============================] - 2s 3ms/step - loss: 0.3414 - accuracy: 0.8572 - val_loss: 0.3658 - val_accuracy: 0.8497\n",
            "Epoch 24/100\n",
            "536/536 [==============================] - 1s 2ms/step - loss: 0.3403 - accuracy: 0.8582 - val_loss: 0.3661 - val_accuracy: 0.8516\n",
            "Epoch 25/100\n",
            "536/536 [==============================] - 2s 3ms/step - loss: 0.3405 - accuracy: 0.8576 - val_loss: 0.3646 - val_accuracy: 0.8519\n",
            "Epoch 26/100\n",
            "536/536 [==============================] - 2s 3ms/step - loss: 0.3398 - accuracy: 0.8569 - val_loss: 0.3632 - val_accuracy: 0.8523\n",
            "Epoch 27/100\n",
            "536/536 [==============================] - 1s 2ms/step - loss: 0.3395 - accuracy: 0.8563 - val_loss: 0.3637 - val_accuracy: 0.8508\n",
            "Epoch 28/100\n",
            "536/536 [==============================] - 1s 2ms/step - loss: 0.3394 - accuracy: 0.8587 - val_loss: 0.3627 - val_accuracy: 0.8504\n",
            "Epoch 29/100\n",
            "536/536 [==============================] - 2s 3ms/step - loss: 0.3386 - accuracy: 0.8602 - val_loss: 0.3651 - val_accuracy: 0.8497\n",
            "Epoch 30/100\n",
            "536/536 [==============================] - 2s 3ms/step - loss: 0.3388 - accuracy: 0.8591 - val_loss: 0.3635 - val_accuracy: 0.8501\n",
            "Epoch 31/100\n",
            "536/536 [==============================] - 2s 3ms/step - loss: 0.3382 - accuracy: 0.8572 - val_loss: 0.3635 - val_accuracy: 0.8493\n",
            "Epoch 32/100\n",
            "536/536 [==============================] - 2s 3ms/step - loss: 0.3376 - accuracy: 0.8582 - val_loss: 0.3623 - val_accuracy: 0.8523\n",
            "Epoch 33/100\n",
            "536/536 [==============================] - 2s 3ms/step - loss: 0.3376 - accuracy: 0.8586 - val_loss: 0.3621 - val_accuracy: 0.8508\n",
            "Epoch 34/100\n",
            "536/536 [==============================] - 1s 2ms/step - loss: 0.3369 - accuracy: 0.8602 - val_loss: 0.3619 - val_accuracy: 0.8535\n",
            "Epoch 35/100\n",
            "536/536 [==============================] - 1s 2ms/step - loss: 0.3369 - accuracy: 0.8600 - val_loss: 0.3637 - val_accuracy: 0.8508\n",
            "Epoch 36/100\n",
            "536/536 [==============================] - 1s 2ms/step - loss: 0.3371 - accuracy: 0.8584 - val_loss: 0.3632 - val_accuracy: 0.8508\n",
            "Epoch 37/100\n",
            "536/536 [==============================] - 2s 3ms/step - loss: 0.3367 - accuracy: 0.8602 - val_loss: 0.3617 - val_accuracy: 0.8535\n",
            "Epoch 38/100\n",
            "536/536 [==============================] - 1s 2ms/step - loss: 0.3364 - accuracy: 0.8621 - val_loss: 0.3636 - val_accuracy: 0.8516\n",
            "Epoch 39/100\n",
            "536/536 [==============================] - 1s 2ms/step - loss: 0.3363 - accuracy: 0.8591 - val_loss: 0.3629 - val_accuracy: 0.8527\n",
            "Epoch 40/100\n",
            "536/536 [==============================] - 1s 2ms/step - loss: 0.3364 - accuracy: 0.8610 - val_loss: 0.3633 - val_accuracy: 0.8531\n",
            "Epoch 41/100\n",
            "536/536 [==============================] - 2s 3ms/step - loss: 0.3361 - accuracy: 0.8587 - val_loss: 0.3645 - val_accuracy: 0.8516\n",
            "Epoch 42/100\n",
            "536/536 [==============================] - 1s 2ms/step - loss: 0.3359 - accuracy: 0.8606 - val_loss: 0.3618 - val_accuracy: 0.8527\n",
            "Epoch 43/100\n",
            "536/536 [==============================] - 2s 3ms/step - loss: 0.3353 - accuracy: 0.8604 - val_loss: 0.3615 - val_accuracy: 0.8512\n",
            "Epoch 44/100\n",
            "536/536 [==============================] - 1s 2ms/step - loss: 0.3358 - accuracy: 0.8615 - val_loss: 0.3613 - val_accuracy: 0.8531\n",
            "Epoch 45/100\n",
            "536/536 [==============================] - 1s 2ms/step - loss: 0.3360 - accuracy: 0.8623 - val_loss: 0.3625 - val_accuracy: 0.8531\n",
            "Epoch 46/100\n",
            "536/536 [==============================] - 2s 3ms/step - loss: 0.3357 - accuracy: 0.8615 - val_loss: 0.3631 - val_accuracy: 0.8501\n",
            "Epoch 47/100\n",
            "536/536 [==============================] - 1s 2ms/step - loss: 0.3352 - accuracy: 0.8595 - val_loss: 0.3606 - val_accuracy: 0.8516\n",
            "Epoch 48/100\n",
            "536/536 [==============================] - 2s 3ms/step - loss: 0.3359 - accuracy: 0.8602 - val_loss: 0.3618 - val_accuracy: 0.8527\n",
            "Epoch 49/100\n",
            "536/536 [==============================] - 1s 2ms/step - loss: 0.3351 - accuracy: 0.8600 - val_loss: 0.3617 - val_accuracy: 0.8519\n",
            "Epoch 50/100\n",
            "536/536 [==============================] - 2s 3ms/step - loss: 0.3343 - accuracy: 0.8619 - val_loss: 0.3610 - val_accuracy: 0.8538\n",
            "Epoch 51/100\n",
            "536/536 [==============================] - 1s 2ms/step - loss: 0.3348 - accuracy: 0.8604 - val_loss: 0.3626 - val_accuracy: 0.8527\n",
            "Epoch 52/100\n",
            "536/536 [==============================] - 2s 3ms/step - loss: 0.3348 - accuracy: 0.8615 - val_loss: 0.3656 - val_accuracy: 0.8470\n",
            "Epoch 53/100\n",
            "536/536 [==============================] - 2s 3ms/step - loss: 0.3341 - accuracy: 0.8589 - val_loss: 0.3612 - val_accuracy: 0.8508\n",
            "Epoch 54/100\n",
            "536/536 [==============================] - 2s 3ms/step - loss: 0.3345 - accuracy: 0.8630 - val_loss: 0.3618 - val_accuracy: 0.8512\n",
            "Epoch 55/100\n",
            "536/536 [==============================] - 1s 2ms/step - loss: 0.3341 - accuracy: 0.8612 - val_loss: 0.3625 - val_accuracy: 0.8512\n",
            "Epoch 56/100\n",
            "536/536 [==============================] - 1s 2ms/step - loss: 0.3345 - accuracy: 0.8600 - val_loss: 0.3614 - val_accuracy: 0.8519\n",
            "Epoch 57/100\n",
            "536/536 [==============================] - 1s 2ms/step - loss: 0.3345 - accuracy: 0.8619 - val_loss: 0.3615 - val_accuracy: 0.8504\n",
            "Epoch 58/100\n",
            "536/536 [==============================] - 1s 2ms/step - loss: 0.3341 - accuracy: 0.8615 - val_loss: 0.3646 - val_accuracy: 0.8512\n",
            "Epoch 59/100\n",
            "536/536 [==============================] - 2s 3ms/step - loss: 0.3340 - accuracy: 0.8623 - val_loss: 0.3610 - val_accuracy: 0.8501\n",
            "Epoch 60/100\n",
            "536/536 [==============================] - 1s 2ms/step - loss: 0.3335 - accuracy: 0.8617 - val_loss: 0.3622 - val_accuracy: 0.8489\n",
            "Epoch 61/100\n",
            "536/536 [==============================] - 1s 2ms/step - loss: 0.3338 - accuracy: 0.8602 - val_loss: 0.3601 - val_accuracy: 0.8516\n",
            "Epoch 62/100\n",
            "536/536 [==============================] - 2s 3ms/step - loss: 0.3338 - accuracy: 0.8595 - val_loss: 0.3600 - val_accuracy: 0.8527\n",
            "Epoch 63/100\n",
            "536/536 [==============================] - 1s 2ms/step - loss: 0.3332 - accuracy: 0.8608 - val_loss: 0.3608 - val_accuracy: 0.8527\n",
            "Epoch 64/100\n",
            "536/536 [==============================] - 1s 2ms/step - loss: 0.3330 - accuracy: 0.8602 - val_loss: 0.3626 - val_accuracy: 0.8504\n",
            "Epoch 65/100\n",
            "536/536 [==============================] - 1s 2ms/step - loss: 0.3331 - accuracy: 0.8619 - val_loss: 0.3636 - val_accuracy: 0.8478\n",
            "Epoch 66/100\n",
            "536/536 [==============================] - 1s 2ms/step - loss: 0.3329 - accuracy: 0.8589 - val_loss: 0.3601 - val_accuracy: 0.8527\n",
            "Epoch 67/100\n",
            "536/536 [==============================] - 2s 3ms/step - loss: 0.3322 - accuracy: 0.8617 - val_loss: 0.3623 - val_accuracy: 0.8478\n",
            "Epoch 68/100\n",
            "536/536 [==============================] - 2s 3ms/step - loss: 0.3325 - accuracy: 0.8604 - val_loss: 0.3613 - val_accuracy: 0.8497\n",
            "Epoch 69/100\n",
            "536/536 [==============================] - 2s 3ms/step - loss: 0.3330 - accuracy: 0.8612 - val_loss: 0.3606 - val_accuracy: 0.8504\n",
            "Epoch 70/100\n",
            "536/536 [==============================] - 1s 3ms/step - loss: 0.3322 - accuracy: 0.8608 - val_loss: 0.3637 - val_accuracy: 0.8478\n",
            "Epoch 71/100\n",
            "536/536 [==============================] - 1s 2ms/step - loss: 0.3323 - accuracy: 0.8614 - val_loss: 0.3611 - val_accuracy: 0.8512\n",
            "Epoch 72/100\n",
            "536/536 [==============================] - 1s 2ms/step - loss: 0.3327 - accuracy: 0.8617 - val_loss: 0.3608 - val_accuracy: 0.8523\n",
            "Epoch 73/100\n",
            "536/536 [==============================] - 1s 2ms/step - loss: 0.3322 - accuracy: 0.8608 - val_loss: 0.3608 - val_accuracy: 0.8542\n",
            "Epoch 74/100\n",
            "536/536 [==============================] - 1s 2ms/step - loss: 0.3319 - accuracy: 0.8612 - val_loss: 0.3607 - val_accuracy: 0.8508\n",
            "Epoch 75/100\n",
            "536/536 [==============================] - 2s 3ms/step - loss: 0.3320 - accuracy: 0.8597 - val_loss: 0.3600 - val_accuracy: 0.8542\n",
            "Epoch 76/100\n",
            "536/536 [==============================] - 1s 2ms/step - loss: 0.3315 - accuracy: 0.8591 - val_loss: 0.3595 - val_accuracy: 0.8531\n",
            "Epoch 77/100\n",
            "536/536 [==============================] - 2s 3ms/step - loss: 0.3313 - accuracy: 0.8628 - val_loss: 0.3615 - val_accuracy: 0.8489\n",
            "Epoch 78/100\n",
            "536/536 [==============================] - 2s 3ms/step - loss: 0.3313 - accuracy: 0.8634 - val_loss: 0.3613 - val_accuracy: 0.8485\n",
            "Epoch 79/100\n",
            "536/536 [==============================] - 2s 3ms/step - loss: 0.3313 - accuracy: 0.8614 - val_loss: 0.3622 - val_accuracy: 0.8489\n",
            "Epoch 80/100\n",
            "536/536 [==============================] - 2s 3ms/step - loss: 0.3313 - accuracy: 0.8593 - val_loss: 0.3616 - val_accuracy: 0.8504\n",
            "Epoch 81/100\n",
            "536/536 [==============================] - 2s 3ms/step - loss: 0.3314 - accuracy: 0.8604 - val_loss: 0.3604 - val_accuracy: 0.8527\n",
            "Epoch 82/100\n",
            "536/536 [==============================] - 1s 2ms/step - loss: 0.3305 - accuracy: 0.8602 - val_loss: 0.3602 - val_accuracy: 0.8512\n",
            "Epoch 83/100\n",
            "536/536 [==============================] - 1s 2ms/step - loss: 0.3312 - accuracy: 0.8586 - val_loss: 0.3598 - val_accuracy: 0.8550\n",
            "Epoch 84/100\n",
            "536/536 [==============================] - 1s 2ms/step - loss: 0.3309 - accuracy: 0.8582 - val_loss: 0.3598 - val_accuracy: 0.8542\n",
            "Epoch 85/100\n",
            "536/536 [==============================] - 2s 3ms/step - loss: 0.3310 - accuracy: 0.8614 - val_loss: 0.3592 - val_accuracy: 0.8512\n",
            "Epoch 86/100\n",
            "536/536 [==============================] - 1s 2ms/step - loss: 0.3307 - accuracy: 0.8593 - val_loss: 0.3599 - val_accuracy: 0.8504\n",
            "Epoch 87/100\n",
            "536/536 [==============================] - 1s 2ms/step - loss: 0.3308 - accuracy: 0.8593 - val_loss: 0.3596 - val_accuracy: 0.8523\n",
            "Epoch 88/100\n",
            "536/536 [==============================] - 1s 2ms/step - loss: 0.3307 - accuracy: 0.8597 - val_loss: 0.3584 - val_accuracy: 0.8538\n",
            "Epoch 89/100\n",
            "536/536 [==============================] - 1s 2ms/step - loss: 0.3307 - accuracy: 0.8602 - val_loss: 0.3602 - val_accuracy: 0.8489\n",
            "Epoch 90/100\n",
            "536/536 [==============================] - 2s 3ms/step - loss: 0.3308 - accuracy: 0.8595 - val_loss: 0.3586 - val_accuracy: 0.8519\n",
            "Epoch 91/100\n",
            "536/536 [==============================] - 2s 3ms/step - loss: 0.3300 - accuracy: 0.8586 - val_loss: 0.3602 - val_accuracy: 0.8516\n",
            "Epoch 92/100\n",
            "536/536 [==============================] - 2s 3ms/step - loss: 0.3304 - accuracy: 0.8621 - val_loss: 0.3595 - val_accuracy: 0.8512\n",
            "Epoch 93/100\n",
            "536/536 [==============================] - 1s 2ms/step - loss: 0.3300 - accuracy: 0.8614 - val_loss: 0.3583 - val_accuracy: 0.8516\n",
            "Epoch 94/100\n",
            "536/536 [==============================] - 2s 3ms/step - loss: 0.3306 - accuracy: 0.8589 - val_loss: 0.3585 - val_accuracy: 0.8535\n",
            "Epoch 95/100\n",
            "536/536 [==============================] - 1s 2ms/step - loss: 0.3306 - accuracy: 0.8586 - val_loss: 0.3582 - val_accuracy: 0.8516\n",
            "Epoch 96/100\n",
            "536/536 [==============================] - 1s 2ms/step - loss: 0.3301 - accuracy: 0.8604 - val_loss: 0.3579 - val_accuracy: 0.8527\n",
            "Epoch 97/100\n",
            "536/536 [==============================] - 1s 2ms/step - loss: 0.3302 - accuracy: 0.8597 - val_loss: 0.3581 - val_accuracy: 0.8531\n",
            "Epoch 98/100\n",
            "536/536 [==============================] - 1s 2ms/step - loss: 0.3295 - accuracy: 0.8593 - val_loss: 0.3590 - val_accuracy: 0.8508\n",
            "Epoch 99/100\n",
            "536/536 [==============================] - 2s 3ms/step - loss: 0.3301 - accuracy: 0.8595 - val_loss: 0.3582 - val_accuracy: 0.8508\n",
            "Epoch 100/100\n",
            "536/536 [==============================] - 2s 3ms/step - loss: 0.3303 - accuracy: 0.8599 - val_loss: 0.3567 - val_accuracy: 0.8531\n"
          ]
        }
      ]
    },
    {
      "cell_type": "code",
      "source": [
        "# summarize history for loss\n",
        "plt.plot(model_history.history['loss'])\n",
        "plt.plot(model_history.history['val_loss'])\n",
        "plt.title('model loss')\n",
        "plt.ylabel('loss')\n",
        "plt.xlabel('epoch')\n",
        "plt.legend(['train', 'test'], loc='upper left')\n",
        "plt.show()"
      ],
      "metadata": {
        "colab": {
          "base_uri": "https://localhost:8080/",
          "height": 295
        },
        "id": "h4lWJREjSCKt",
        "outputId": "69eb79bd-4d12-429f-88a7-73bccc205d32"
      },
      "execution_count": 26,
      "outputs": [
        {
          "output_type": "display_data",
          "data": {
            "text/plain": [
              "<Figure size 432x288 with 1 Axes>"
            ],
            "image/png": "[encoded data removed]"
          },
          "metadata": {
            "needs_background": "light"
          }
        }
      ]
    },
    {
      "cell_type": "code",
      "source": [
        "# Predicting the Test set results\n",
        "y_pred = classifier.predict(X_test)\n",
        "y_pred = (y_pred > 0.5)\n"
      ],
      "metadata": {
        "id": "cXRJ83N7SVeT"
      },
      "execution_count": 27,
      "outputs": []
    },
    {
      "cell_type": "code",
      "source": [
        "# Making the Confusion Matrix\n",
        "from sklearn.metrics import confusion_matrix\n",
        "cm = confusion_matrix(y_test, y_pred)\n",
        "cm"
      ],
      "metadata": {
        "colab": {
          "base_uri": "https://localhost:8080/"
        },
        "id": "hNKdZuQzSccq",
        "outputId": "c8906ac9-5774-44ca-f70d-d087c214146f"
      },
      "execution_count": 29,
      "outputs": [
        {
          "output_type": "execute_result",
          "data": {
            "text/plain": [
              "array([[1516,   79],\n",
              "       [ 199,  206]])"
            ]
          },
          "metadata": {},
          "execution_count": 29
        }
      ]
    },
    {
      "cell_type": "code",
      "source": [
        "# Calculate the Accuracy\n",
        "from sklearn.metrics import accuracy_score\n",
        "score=accuracy_score(y_pred,y_test)\n",
        "score"
      ],
      "metadata": {
        "colab": {
          "base_uri": "https://localhost:8080/"
        },
        "id": "r2fWu3IgSchj",
        "outputId": "7fb2b714-bdf5-4933-91f4-8db234d1f125"
      },
      "execution_count": 31,
      "outputs": [
        {
          "output_type": "execute_result",
          "data": {
            "text/plain": [
              "0.861"
            ]
          },
          "metadata": {},
          "execution_count": 31
        }
      ]
    },
    {
      "cell_type": "code",
      "source": [
        ""
      ],
      "metadata": {
        "id": "AvsGxg44Spl5"
      },
      "execution_count": null,
      "outputs": []
    }
  ]
}